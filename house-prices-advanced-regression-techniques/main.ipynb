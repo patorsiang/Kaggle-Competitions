{
 "cells": [
  {
   "cell_type": "markdown",
   "id": "418d2c55",
   "metadata": {},
   "source": [
    "# House Prices - Advanced Regression Techniques"
   ]
  },
  {
   "cell_type": "markdown",
   "id": "0d3924c0",
   "metadata": {},
   "source": [
    "## Library"
   ]
  },
  {
   "cell_type": "code",
   "execution_count": 1,
   "id": "8ce4ae31",
   "metadata": {},
   "outputs": [],
   "source": [
    "import pandas as pd\n",
    "import seaborn as sns\n",
    "import numpy as np\n",
    "import matplotlib.pyplot as plt"
   ]
  },
  {
   "cell_type": "markdown",
   "id": "7c777f29",
   "metadata": {},
   "source": [
    "## Read Dataset"
   ]
  },
  {
   "cell_type": "code",
   "execution_count": 2,
   "id": "b4713eae",
   "metadata": {},
   "outputs": [],
   "source": [
    "path = '../datasets/house-prices-advanced-regression-techniques/'"
   ]
  },
  {
   "cell_type": "code",
   "execution_count": 3,
   "id": "125c3c4c",
   "metadata": {},
   "outputs": [],
   "source": [
    "train_df = pd.read_csv(path + 'train.csv')\n",
    "test_df = pd.read_csv(path + 'test.csv')"
   ]
  },
  {
   "cell_type": "markdown",
   "id": "743eb622",
   "metadata": {},
   "source": [
    "# Understand dataset"
   ]
  },
  {
   "cell_type": "code",
   "execution_count": 4,
   "id": "bcd74842",
   "metadata": {},
   "outputs": [
    {
     "name": "stdout",
     "output_type": "stream",
     "text": [
      "<class 'pandas.core.frame.DataFrame'>\n",
      "RangeIndex: 1460 entries, 0 to 1459\n",
      "Data columns (total 81 columns):\n",
      " #   Column         Non-Null Count  Dtype  \n",
      "---  ------         --------------  -----  \n",
      " 0   Id             1460 non-null   int64  \n",
      " 1   MSSubClass     1460 non-null   int64  \n",
      " 2   MSZoning       1460 non-null   object \n",
      " 3   LotFrontage    1201 non-null   float64\n",
      " 4   LotArea        1460 non-null   int64  \n",
      " 5   Street         1460 non-null   object \n",
      " 6   Alley          91 non-null     object \n",
      " 7   LotShape       1460 non-null   object \n",
      " 8   LandContour    1460 non-null   object \n",
      " 9   Utilities      1460 non-null   object \n",
      " 10  LotConfig      1460 non-null   object \n",
      " 11  LandSlope      1460 non-null   object \n",
      " 12  Neighborhood   1460 non-null   object \n",
      " 13  Condition1     1460 non-null   object \n",
      " 14  Condition2     1460 non-null   object \n",
      " 15  BldgType       1460 non-null   object \n",
      " 16  HouseStyle     1460 non-null   object \n",
      " 17  OverallQual    1460 non-null   int64  \n",
      " 18  OverallCond    1460 non-null   int64  \n",
      " 19  YearBuilt      1460 non-null   int64  \n",
      " 20  YearRemodAdd   1460 non-null   int64  \n",
      " 21  RoofStyle      1460 non-null   object \n",
      " 22  RoofMatl       1460 non-null   object \n",
      " 23  Exterior1st    1460 non-null   object \n",
      " 24  Exterior2nd    1460 non-null   object \n",
      " 25  MasVnrType     588 non-null    object \n",
      " 26  MasVnrArea     1452 non-null   float64\n",
      " 27  ExterQual      1460 non-null   object \n",
      " 28  ExterCond      1460 non-null   object \n",
      " 29  Foundation     1460 non-null   object \n",
      " 30  BsmtQual       1423 non-null   object \n",
      " 31  BsmtCond       1423 non-null   object \n",
      " 32  BsmtExposure   1422 non-null   object \n",
      " 33  BsmtFinType1   1423 non-null   object \n",
      " 34  BsmtFinSF1     1460 non-null   int64  \n",
      " 35  BsmtFinType2   1422 non-null   object \n",
      " 36  BsmtFinSF2     1460 non-null   int64  \n",
      " 37  BsmtUnfSF      1460 non-null   int64  \n",
      " 38  TotalBsmtSF    1460 non-null   int64  \n",
      " 39  Heating        1460 non-null   object \n",
      " 40  HeatingQC      1460 non-null   object \n",
      " 41  CentralAir     1460 non-null   object \n",
      " 42  Electrical     1459 non-null   object \n",
      " 43  1stFlrSF       1460 non-null   int64  \n",
      " 44  2ndFlrSF       1460 non-null   int64  \n",
      " 45  LowQualFinSF   1460 non-null   int64  \n",
      " 46  GrLivArea      1460 non-null   int64  \n",
      " 47  BsmtFullBath   1460 non-null   int64  \n",
      " 48  BsmtHalfBath   1460 non-null   int64  \n",
      " 49  FullBath       1460 non-null   int64  \n",
      " 50  HalfBath       1460 non-null   int64  \n",
      " 51  BedroomAbvGr   1460 non-null   int64  \n",
      " 52  KitchenAbvGr   1460 non-null   int64  \n",
      " 53  KitchenQual    1460 non-null   object \n",
      " 54  TotRmsAbvGrd   1460 non-null   int64  \n",
      " 55  Functional     1460 non-null   object \n",
      " 56  Fireplaces     1460 non-null   int64  \n",
      " 57  FireplaceQu    770 non-null    object \n",
      " 58  GarageType     1379 non-null   object \n",
      " 59  GarageYrBlt    1379 non-null   float64\n",
      " 60  GarageFinish   1379 non-null   object \n",
      " 61  GarageCars     1460 non-null   int64  \n",
      " 62  GarageArea     1460 non-null   int64  \n",
      " 63  GarageQual     1379 non-null   object \n",
      " 64  GarageCond     1379 non-null   object \n",
      " 65  PavedDrive     1460 non-null   object \n",
      " 66  WoodDeckSF     1460 non-null   int64  \n",
      " 67  OpenPorchSF    1460 non-null   int64  \n",
      " 68  EnclosedPorch  1460 non-null   int64  \n",
      " 69  3SsnPorch      1460 non-null   int64  \n",
      " 70  ScreenPorch    1460 non-null   int64  \n",
      " 71  PoolArea       1460 non-null   int64  \n",
      " 72  PoolQC         7 non-null      object \n",
      " 73  Fence          281 non-null    object \n",
      " 74  MiscFeature    54 non-null     object \n",
      " 75  MiscVal        1460 non-null   int64  \n",
      " 76  MoSold         1460 non-null   int64  \n",
      " 77  YrSold         1460 non-null   int64  \n",
      " 78  SaleType       1460 non-null   object \n",
      " 79  SaleCondition  1460 non-null   object \n",
      " 80  SalePrice      1460 non-null   int64  \n",
      "dtypes: float64(3), int64(35), object(43)\n",
      "memory usage: 924.0+ KB\n"
     ]
    }
   ],
   "source": [
    "train_df.info()"
   ]
  },
  {
   "cell_type": "code",
   "execution_count": 5,
   "id": "d825ec9e",
   "metadata": {},
   "outputs": [
    {
     "name": "stdout",
     "output_type": "stream",
     "text": [
      "<class 'pandas.core.frame.DataFrame'>\n",
      "RangeIndex: 1459 entries, 0 to 1458\n",
      "Data columns (total 80 columns):\n",
      " #   Column         Non-Null Count  Dtype  \n",
      "---  ------         --------------  -----  \n",
      " 0   Id             1459 non-null   int64  \n",
      " 1   MSSubClass     1459 non-null   int64  \n",
      " 2   MSZoning       1455 non-null   object \n",
      " 3   LotFrontage    1232 non-null   float64\n",
      " 4   LotArea        1459 non-null   int64  \n",
      " 5   Street         1459 non-null   object \n",
      " 6   Alley          107 non-null    object \n",
      " 7   LotShape       1459 non-null   object \n",
      " 8   LandContour    1459 non-null   object \n",
      " 9   Utilities      1457 non-null   object \n",
      " 10  LotConfig      1459 non-null   object \n",
      " 11  LandSlope      1459 non-null   object \n",
      " 12  Neighborhood   1459 non-null   object \n",
      " 13  Condition1     1459 non-null   object \n",
      " 14  Condition2     1459 non-null   object \n",
      " 15  BldgType       1459 non-null   object \n",
      " 16  HouseStyle     1459 non-null   object \n",
      " 17  OverallQual    1459 non-null   int64  \n",
      " 18  OverallCond    1459 non-null   int64  \n",
      " 19  YearBuilt      1459 non-null   int64  \n",
      " 20  YearRemodAdd   1459 non-null   int64  \n",
      " 21  RoofStyle      1459 non-null   object \n",
      " 22  RoofMatl       1459 non-null   object \n",
      " 23  Exterior1st    1458 non-null   object \n",
      " 24  Exterior2nd    1458 non-null   object \n",
      " 25  MasVnrType     565 non-null    object \n",
      " 26  MasVnrArea     1444 non-null   float64\n",
      " 27  ExterQual      1459 non-null   object \n",
      " 28  ExterCond      1459 non-null   object \n",
      " 29  Foundation     1459 non-null   object \n",
      " 30  BsmtQual       1415 non-null   object \n",
      " 31  BsmtCond       1414 non-null   object \n",
      " 32  BsmtExposure   1415 non-null   object \n",
      " 33  BsmtFinType1   1417 non-null   object \n",
      " 34  BsmtFinSF1     1458 non-null   float64\n",
      " 35  BsmtFinType2   1417 non-null   object \n",
      " 36  BsmtFinSF2     1458 non-null   float64\n",
      " 37  BsmtUnfSF      1458 non-null   float64\n",
      " 38  TotalBsmtSF    1458 non-null   float64\n",
      " 39  Heating        1459 non-null   object \n",
      " 40  HeatingQC      1459 non-null   object \n",
      " 41  CentralAir     1459 non-null   object \n",
      " 42  Electrical     1459 non-null   object \n",
      " 43  1stFlrSF       1459 non-null   int64  \n",
      " 44  2ndFlrSF       1459 non-null   int64  \n",
      " 45  LowQualFinSF   1459 non-null   int64  \n",
      " 46  GrLivArea      1459 non-null   int64  \n",
      " 47  BsmtFullBath   1457 non-null   float64\n",
      " 48  BsmtHalfBath   1457 non-null   float64\n",
      " 49  FullBath       1459 non-null   int64  \n",
      " 50  HalfBath       1459 non-null   int64  \n",
      " 51  BedroomAbvGr   1459 non-null   int64  \n",
      " 52  KitchenAbvGr   1459 non-null   int64  \n",
      " 53  KitchenQual    1458 non-null   object \n",
      " 54  TotRmsAbvGrd   1459 non-null   int64  \n",
      " 55  Functional     1457 non-null   object \n",
      " 56  Fireplaces     1459 non-null   int64  \n",
      " 57  FireplaceQu    729 non-null    object \n",
      " 58  GarageType     1383 non-null   object \n",
      " 59  GarageYrBlt    1381 non-null   float64\n",
      " 60  GarageFinish   1381 non-null   object \n",
      " 61  GarageCars     1458 non-null   float64\n",
      " 62  GarageArea     1458 non-null   float64\n",
      " 63  GarageQual     1381 non-null   object \n",
      " 64  GarageCond     1381 non-null   object \n",
      " 65  PavedDrive     1459 non-null   object \n",
      " 66  WoodDeckSF     1459 non-null   int64  \n",
      " 67  OpenPorchSF    1459 non-null   int64  \n",
      " 68  EnclosedPorch  1459 non-null   int64  \n",
      " 69  3SsnPorch      1459 non-null   int64  \n",
      " 70  ScreenPorch    1459 non-null   int64  \n",
      " 71  PoolArea       1459 non-null   int64  \n",
      " 72  PoolQC         3 non-null      object \n",
      " 73  Fence          290 non-null    object \n",
      " 74  MiscFeature    51 non-null     object \n",
      " 75  MiscVal        1459 non-null   int64  \n",
      " 76  MoSold         1459 non-null   int64  \n",
      " 77  YrSold         1459 non-null   int64  \n",
      " 78  SaleType       1458 non-null   object \n",
      " 79  SaleCondition  1459 non-null   object \n",
      "dtypes: float64(11), int64(26), object(43)\n",
      "memory usage: 912.0+ KB\n"
     ]
    }
   ],
   "source": [
    "test_df.info()"
   ]
  },
  {
   "cell_type": "code",
   "execution_count": 6,
   "id": "114eea87",
   "metadata": {},
   "outputs": [],
   "source": [
    "if 'SalePrice' not in test_df.columns:\n",
    "  test_df['SalePrice'] = 0"
   ]
  },
  {
   "cell_type": "code",
   "execution_count": 7,
   "id": "b028db97",
   "metadata": {},
   "outputs": [],
   "source": [
    "df = pd.concat([train_df, test_df], axis = 0)\n",
    "df = df.set_index('Id')"
   ]
  },
  {
   "cell_type": "code",
   "execution_count": 8,
   "id": "df35de6f",
   "metadata": {},
   "outputs": [
    {
     "data": {
      "application/vnd.microsoft.datawrangler.viewer.v0+json": {
       "columns": [
        {
         "name": "Id",
         "rawType": "int64",
         "type": "integer"
        },
        {
         "name": "MSSubClass",
         "rawType": "int64",
         "type": "integer"
        },
        {
         "name": "MSZoning",
         "rawType": "object",
         "type": "string"
        },
        {
         "name": "LotFrontage",
         "rawType": "float64",
         "type": "float"
        },
        {
         "name": "LotArea",
         "rawType": "int64",
         "type": "integer"
        },
        {
         "name": "Street",
         "rawType": "object",
         "type": "string"
        },
        {
         "name": "Alley",
         "rawType": "object",
         "type": "unknown"
        },
        {
         "name": "LotShape",
         "rawType": "object",
         "type": "string"
        },
        {
         "name": "LandContour",
         "rawType": "object",
         "type": "string"
        },
        {
         "name": "Utilities",
         "rawType": "object",
         "type": "string"
        },
        {
         "name": "LotConfig",
         "rawType": "object",
         "type": "string"
        },
        {
         "name": "LandSlope",
         "rawType": "object",
         "type": "string"
        },
        {
         "name": "Neighborhood",
         "rawType": "object",
         "type": "string"
        },
        {
         "name": "Condition1",
         "rawType": "object",
         "type": "string"
        },
        {
         "name": "Condition2",
         "rawType": "object",
         "type": "string"
        },
        {
         "name": "BldgType",
         "rawType": "object",
         "type": "string"
        },
        {
         "name": "HouseStyle",
         "rawType": "object",
         "type": "string"
        },
        {
         "name": "OverallQual",
         "rawType": "int64",
         "type": "integer"
        },
        {
         "name": "OverallCond",
         "rawType": "int64",
         "type": "integer"
        },
        {
         "name": "YearBuilt",
         "rawType": "int64",
         "type": "integer"
        },
        {
         "name": "YearRemodAdd",
         "rawType": "int64",
         "type": "integer"
        },
        {
         "name": "RoofStyle",
         "rawType": "object",
         "type": "string"
        },
        {
         "name": "RoofMatl",
         "rawType": "object",
         "type": "string"
        },
        {
         "name": "Exterior1st",
         "rawType": "object",
         "type": "string"
        },
        {
         "name": "Exterior2nd",
         "rawType": "object",
         "type": "string"
        },
        {
         "name": "MasVnrType",
         "rawType": "object",
         "type": "unknown"
        },
        {
         "name": "MasVnrArea",
         "rawType": "float64",
         "type": "float"
        },
        {
         "name": "ExterQual",
         "rawType": "object",
         "type": "string"
        },
        {
         "name": "ExterCond",
         "rawType": "object",
         "type": "string"
        },
        {
         "name": "Foundation",
         "rawType": "object",
         "type": "string"
        },
        {
         "name": "BsmtQual",
         "rawType": "object",
         "type": "string"
        },
        {
         "name": "BsmtCond",
         "rawType": "object",
         "type": "string"
        },
        {
         "name": "BsmtExposure",
         "rawType": "object",
         "type": "string"
        },
        {
         "name": "BsmtFinType1",
         "rawType": "object",
         "type": "string"
        },
        {
         "name": "BsmtFinSF1",
         "rawType": "float64",
         "type": "float"
        },
        {
         "name": "BsmtFinType2",
         "rawType": "object",
         "type": "string"
        },
        {
         "name": "BsmtFinSF2",
         "rawType": "float64",
         "type": "float"
        },
        {
         "name": "BsmtUnfSF",
         "rawType": "float64",
         "type": "float"
        },
        {
         "name": "TotalBsmtSF",
         "rawType": "float64",
         "type": "float"
        },
        {
         "name": "Heating",
         "rawType": "object",
         "type": "string"
        },
        {
         "name": "HeatingQC",
         "rawType": "object",
         "type": "string"
        },
        {
         "name": "CentralAir",
         "rawType": "object",
         "type": "string"
        },
        {
         "name": "Electrical",
         "rawType": "object",
         "type": "string"
        },
        {
         "name": "1stFlrSF",
         "rawType": "int64",
         "type": "integer"
        },
        {
         "name": "2ndFlrSF",
         "rawType": "int64",
         "type": "integer"
        },
        {
         "name": "LowQualFinSF",
         "rawType": "int64",
         "type": "integer"
        },
        {
         "name": "GrLivArea",
         "rawType": "int64",
         "type": "integer"
        },
        {
         "name": "BsmtFullBath",
         "rawType": "float64",
         "type": "float"
        },
        {
         "name": "BsmtHalfBath",
         "rawType": "float64",
         "type": "float"
        },
        {
         "name": "FullBath",
         "rawType": "int64",
         "type": "integer"
        },
        {
         "name": "HalfBath",
         "rawType": "int64",
         "type": "integer"
        },
        {
         "name": "BedroomAbvGr",
         "rawType": "int64",
         "type": "integer"
        },
        {
         "name": "KitchenAbvGr",
         "rawType": "int64",
         "type": "integer"
        },
        {
         "name": "KitchenQual",
         "rawType": "object",
         "type": "string"
        },
        {
         "name": "TotRmsAbvGrd",
         "rawType": "int64",
         "type": "integer"
        },
        {
         "name": "Functional",
         "rawType": "object",
         "type": "string"
        },
        {
         "name": "Fireplaces",
         "rawType": "int64",
         "type": "integer"
        },
        {
         "name": "FireplaceQu",
         "rawType": "object",
         "type": "unknown"
        },
        {
         "name": "GarageType",
         "rawType": "object",
         "type": "string"
        },
        {
         "name": "GarageYrBlt",
         "rawType": "float64",
         "type": "float"
        },
        {
         "name": "GarageFinish",
         "rawType": "object",
         "type": "string"
        },
        {
         "name": "GarageCars",
         "rawType": "float64",
         "type": "float"
        },
        {
         "name": "GarageArea",
         "rawType": "float64",
         "type": "float"
        },
        {
         "name": "GarageQual",
         "rawType": "object",
         "type": "string"
        },
        {
         "name": "GarageCond",
         "rawType": "object",
         "type": "string"
        },
        {
         "name": "PavedDrive",
         "rawType": "object",
         "type": "string"
        },
        {
         "name": "WoodDeckSF",
         "rawType": "int64",
         "type": "integer"
        },
        {
         "name": "OpenPorchSF",
         "rawType": "int64",
         "type": "integer"
        },
        {
         "name": "EnclosedPorch",
         "rawType": "int64",
         "type": "integer"
        },
        {
         "name": "3SsnPorch",
         "rawType": "int64",
         "type": "integer"
        },
        {
         "name": "ScreenPorch",
         "rawType": "int64",
         "type": "integer"
        },
        {
         "name": "PoolArea",
         "rawType": "int64",
         "type": "integer"
        },
        {
         "name": "PoolQC",
         "rawType": "object",
         "type": "unknown"
        },
        {
         "name": "Fence",
         "rawType": "object",
         "type": "unknown"
        },
        {
         "name": "MiscFeature",
         "rawType": "object",
         "type": "unknown"
        },
        {
         "name": "MiscVal",
         "rawType": "int64",
         "type": "integer"
        },
        {
         "name": "MoSold",
         "rawType": "int64",
         "type": "integer"
        },
        {
         "name": "YrSold",
         "rawType": "int64",
         "type": "integer"
        },
        {
         "name": "SaleType",
         "rawType": "object",
         "type": "string"
        },
        {
         "name": "SaleCondition",
         "rawType": "object",
         "type": "string"
        },
        {
         "name": "SalePrice",
         "rawType": "int64",
         "type": "integer"
        }
       ],
       "ref": "d33e1309-9810-4a84-bb77-dcd53d4ee8ab",
       "rows": [
        [
         "1",
         "60",
         "RL",
         "65.0",
         "8450",
         "Pave",
         null,
         "Reg",
         "Lvl",
         "AllPub",
         "Inside",
         "Gtl",
         "CollgCr",
         "Norm",
         "Norm",
         "1Fam",
         "2Story",
         "7",
         "5",
         "2003",
         "2003",
         "Gable",
         "CompShg",
         "VinylSd",
         "VinylSd",
         "BrkFace",
         "196.0",
         "Gd",
         "TA",
         "PConc",
         "Gd",
         "TA",
         "No",
         "GLQ",
         "706.0",
         "Unf",
         "0.0",
         "150.0",
         "856.0",
         "GasA",
         "Ex",
         "Y",
         "SBrkr",
         "856",
         "854",
         "0",
         "1710",
         "1.0",
         "0.0",
         "2",
         "1",
         "3",
         "1",
         "Gd",
         "8",
         "Typ",
         "0",
         null,
         "Attchd",
         "2003.0",
         "RFn",
         "2.0",
         "548.0",
         "TA",
         "TA",
         "Y",
         "0",
         "61",
         "0",
         "0",
         "0",
         "0",
         null,
         null,
         null,
         "0",
         "2",
         "2008",
         "WD",
         "Normal",
         "208500"
        ],
        [
         "2",
         "20",
         "RL",
         "80.0",
         "9600",
         "Pave",
         null,
         "Reg",
         "Lvl",
         "AllPub",
         "FR2",
         "Gtl",
         "Veenker",
         "Feedr",
         "Norm",
         "1Fam",
         "1Story",
         "6",
         "8",
         "1976",
         "1976",
         "Gable",
         "CompShg",
         "MetalSd",
         "MetalSd",
         null,
         "0.0",
         "TA",
         "TA",
         "CBlock",
         "Gd",
         "TA",
         "Gd",
         "ALQ",
         "978.0",
         "Unf",
         "0.0",
         "284.0",
         "1262.0",
         "GasA",
         "Ex",
         "Y",
         "SBrkr",
         "1262",
         "0",
         "0",
         "1262",
         "0.0",
         "1.0",
         "2",
         "0",
         "3",
         "1",
         "TA",
         "6",
         "Typ",
         "1",
         "TA",
         "Attchd",
         "1976.0",
         "RFn",
         "2.0",
         "460.0",
         "TA",
         "TA",
         "Y",
         "298",
         "0",
         "0",
         "0",
         "0",
         "0",
         null,
         null,
         null,
         "0",
         "5",
         "2007",
         "WD",
         "Normal",
         "181500"
        ],
        [
         "3",
         "60",
         "RL",
         "68.0",
         "11250",
         "Pave",
         null,
         "IR1",
         "Lvl",
         "AllPub",
         "Inside",
         "Gtl",
         "CollgCr",
         "Norm",
         "Norm",
         "1Fam",
         "2Story",
         "7",
         "5",
         "2001",
         "2002",
         "Gable",
         "CompShg",
         "VinylSd",
         "VinylSd",
         "BrkFace",
         "162.0",
         "Gd",
         "TA",
         "PConc",
         "Gd",
         "TA",
         "Mn",
         "GLQ",
         "486.0",
         "Unf",
         "0.0",
         "434.0",
         "920.0",
         "GasA",
         "Ex",
         "Y",
         "SBrkr",
         "920",
         "866",
         "0",
         "1786",
         "1.0",
         "0.0",
         "2",
         "1",
         "3",
         "1",
         "Gd",
         "6",
         "Typ",
         "1",
         "TA",
         "Attchd",
         "2001.0",
         "RFn",
         "2.0",
         "608.0",
         "TA",
         "TA",
         "Y",
         "0",
         "42",
         "0",
         "0",
         "0",
         "0",
         null,
         null,
         null,
         "0",
         "9",
         "2008",
         "WD",
         "Normal",
         "223500"
        ],
        [
         "4",
         "70",
         "RL",
         "60.0",
         "9550",
         "Pave",
         null,
         "IR1",
         "Lvl",
         "AllPub",
         "Corner",
         "Gtl",
         "Crawfor",
         "Norm",
         "Norm",
         "1Fam",
         "2Story",
         "7",
         "5",
         "1915",
         "1970",
         "Gable",
         "CompShg",
         "Wd Sdng",
         "Wd Shng",
         null,
         "0.0",
         "TA",
         "TA",
         "BrkTil",
         "TA",
         "Gd",
         "No",
         "ALQ",
         "216.0",
         "Unf",
         "0.0",
         "540.0",
         "756.0",
         "GasA",
         "Gd",
         "Y",
         "SBrkr",
         "961",
         "756",
         "0",
         "1717",
         "1.0",
         "0.0",
         "1",
         "0",
         "3",
         "1",
         "Gd",
         "7",
         "Typ",
         "1",
         "Gd",
         "Detchd",
         "1998.0",
         "Unf",
         "3.0",
         "642.0",
         "TA",
         "TA",
         "Y",
         "0",
         "35",
         "272",
         "0",
         "0",
         "0",
         null,
         null,
         null,
         "0",
         "2",
         "2006",
         "WD",
         "Abnorml",
         "140000"
        ],
        [
         "5",
         "60",
         "RL",
         "84.0",
         "14260",
         "Pave",
         null,
         "IR1",
         "Lvl",
         "AllPub",
         "FR2",
         "Gtl",
         "NoRidge",
         "Norm",
         "Norm",
         "1Fam",
         "2Story",
         "8",
         "5",
         "2000",
         "2000",
         "Gable",
         "CompShg",
         "VinylSd",
         "VinylSd",
         "BrkFace",
         "350.0",
         "Gd",
         "TA",
         "PConc",
         "Gd",
         "TA",
         "Av",
         "GLQ",
         "655.0",
         "Unf",
         "0.0",
         "490.0",
         "1145.0",
         "GasA",
         "Ex",
         "Y",
         "SBrkr",
         "1145",
         "1053",
         "0",
         "2198",
         "1.0",
         "0.0",
         "2",
         "1",
         "4",
         "1",
         "Gd",
         "9",
         "Typ",
         "1",
         "TA",
         "Attchd",
         "2000.0",
         "RFn",
         "3.0",
         "836.0",
         "TA",
         "TA",
         "Y",
         "192",
         "84",
         "0",
         "0",
         "0",
         "0",
         null,
         null,
         null,
         "0",
         "12",
         "2008",
         "WD",
         "Normal",
         "250000"
        ]
       ],
       "shape": {
        "columns": 80,
        "rows": 5
       }
      },
      "text/html": [
       "<div>\n",
       "<style scoped>\n",
       "    .dataframe tbody tr th:only-of-type {\n",
       "        vertical-align: middle;\n",
       "    }\n",
       "\n",
       "    .dataframe tbody tr th {\n",
       "        vertical-align: top;\n",
       "    }\n",
       "\n",
       "    .dataframe thead th {\n",
       "        text-align: right;\n",
       "    }\n",
       "</style>\n",
       "<table border=\"1\" class=\"dataframe\">\n",
       "  <thead>\n",
       "    <tr style=\"text-align: right;\">\n",
       "      <th></th>\n",
       "      <th>MSSubClass</th>\n",
       "      <th>MSZoning</th>\n",
       "      <th>LotFrontage</th>\n",
       "      <th>LotArea</th>\n",
       "      <th>Street</th>\n",
       "      <th>Alley</th>\n",
       "      <th>LotShape</th>\n",
       "      <th>LandContour</th>\n",
       "      <th>Utilities</th>\n",
       "      <th>LotConfig</th>\n",
       "      <th>...</th>\n",
       "      <th>PoolArea</th>\n",
       "      <th>PoolQC</th>\n",
       "      <th>Fence</th>\n",
       "      <th>MiscFeature</th>\n",
       "      <th>MiscVal</th>\n",
       "      <th>MoSold</th>\n",
       "      <th>YrSold</th>\n",
       "      <th>SaleType</th>\n",
       "      <th>SaleCondition</th>\n",
       "      <th>SalePrice</th>\n",
       "    </tr>\n",
       "    <tr>\n",
       "      <th>Id</th>\n",
       "      <th></th>\n",
       "      <th></th>\n",
       "      <th></th>\n",
       "      <th></th>\n",
       "      <th></th>\n",
       "      <th></th>\n",
       "      <th></th>\n",
       "      <th></th>\n",
       "      <th></th>\n",
       "      <th></th>\n",
       "      <th></th>\n",
       "      <th></th>\n",
       "      <th></th>\n",
       "      <th></th>\n",
       "      <th></th>\n",
       "      <th></th>\n",
       "      <th></th>\n",
       "      <th></th>\n",
       "      <th></th>\n",
       "      <th></th>\n",
       "      <th></th>\n",
       "    </tr>\n",
       "  </thead>\n",
       "  <tbody>\n",
       "    <tr>\n",
       "      <th>1</th>\n",
       "      <td>60</td>\n",
       "      <td>RL</td>\n",
       "      <td>65.0</td>\n",
       "      <td>8450</td>\n",
       "      <td>Pave</td>\n",
       "      <td>NaN</td>\n",
       "      <td>Reg</td>\n",
       "      <td>Lvl</td>\n",
       "      <td>AllPub</td>\n",
       "      <td>Inside</td>\n",
       "      <td>...</td>\n",
       "      <td>0</td>\n",
       "      <td>NaN</td>\n",
       "      <td>NaN</td>\n",
       "      <td>NaN</td>\n",
       "      <td>0</td>\n",
       "      <td>2</td>\n",
       "      <td>2008</td>\n",
       "      <td>WD</td>\n",
       "      <td>Normal</td>\n",
       "      <td>208500</td>\n",
       "    </tr>\n",
       "    <tr>\n",
       "      <th>2</th>\n",
       "      <td>20</td>\n",
       "      <td>RL</td>\n",
       "      <td>80.0</td>\n",
       "      <td>9600</td>\n",
       "      <td>Pave</td>\n",
       "      <td>NaN</td>\n",
       "      <td>Reg</td>\n",
       "      <td>Lvl</td>\n",
       "      <td>AllPub</td>\n",
       "      <td>FR2</td>\n",
       "      <td>...</td>\n",
       "      <td>0</td>\n",
       "      <td>NaN</td>\n",
       "      <td>NaN</td>\n",
       "      <td>NaN</td>\n",
       "      <td>0</td>\n",
       "      <td>5</td>\n",
       "      <td>2007</td>\n",
       "      <td>WD</td>\n",
       "      <td>Normal</td>\n",
       "      <td>181500</td>\n",
       "    </tr>\n",
       "    <tr>\n",
       "      <th>3</th>\n",
       "      <td>60</td>\n",
       "      <td>RL</td>\n",
       "      <td>68.0</td>\n",
       "      <td>11250</td>\n",
       "      <td>Pave</td>\n",
       "      <td>NaN</td>\n",
       "      <td>IR1</td>\n",
       "      <td>Lvl</td>\n",
       "      <td>AllPub</td>\n",
       "      <td>Inside</td>\n",
       "      <td>...</td>\n",
       "      <td>0</td>\n",
       "      <td>NaN</td>\n",
       "      <td>NaN</td>\n",
       "      <td>NaN</td>\n",
       "      <td>0</td>\n",
       "      <td>9</td>\n",
       "      <td>2008</td>\n",
       "      <td>WD</td>\n",
       "      <td>Normal</td>\n",
       "      <td>223500</td>\n",
       "    </tr>\n",
       "    <tr>\n",
       "      <th>4</th>\n",
       "      <td>70</td>\n",
       "      <td>RL</td>\n",
       "      <td>60.0</td>\n",
       "      <td>9550</td>\n",
       "      <td>Pave</td>\n",
       "      <td>NaN</td>\n",
       "      <td>IR1</td>\n",
       "      <td>Lvl</td>\n",
       "      <td>AllPub</td>\n",
       "      <td>Corner</td>\n",
       "      <td>...</td>\n",
       "      <td>0</td>\n",
       "      <td>NaN</td>\n",
       "      <td>NaN</td>\n",
       "      <td>NaN</td>\n",
       "      <td>0</td>\n",
       "      <td>2</td>\n",
       "      <td>2006</td>\n",
       "      <td>WD</td>\n",
       "      <td>Abnorml</td>\n",
       "      <td>140000</td>\n",
       "    </tr>\n",
       "    <tr>\n",
       "      <th>5</th>\n",
       "      <td>60</td>\n",
       "      <td>RL</td>\n",
       "      <td>84.0</td>\n",
       "      <td>14260</td>\n",
       "      <td>Pave</td>\n",
       "      <td>NaN</td>\n",
       "      <td>IR1</td>\n",
       "      <td>Lvl</td>\n",
       "      <td>AllPub</td>\n",
       "      <td>FR2</td>\n",
       "      <td>...</td>\n",
       "      <td>0</td>\n",
       "      <td>NaN</td>\n",
       "      <td>NaN</td>\n",
       "      <td>NaN</td>\n",
       "      <td>0</td>\n",
       "      <td>12</td>\n",
       "      <td>2008</td>\n",
       "      <td>WD</td>\n",
       "      <td>Normal</td>\n",
       "      <td>250000</td>\n",
       "    </tr>\n",
       "  </tbody>\n",
       "</table>\n",
       "<p>5 rows × 80 columns</p>\n",
       "</div>"
      ],
      "text/plain": [
       "    MSSubClass MSZoning  LotFrontage  LotArea Street Alley LotShape  \\\n",
       "Id                                                                    \n",
       "1           60       RL         65.0     8450   Pave   NaN      Reg   \n",
       "2           20       RL         80.0     9600   Pave   NaN      Reg   \n",
       "3           60       RL         68.0    11250   Pave   NaN      IR1   \n",
       "4           70       RL         60.0     9550   Pave   NaN      IR1   \n",
       "5           60       RL         84.0    14260   Pave   NaN      IR1   \n",
       "\n",
       "   LandContour Utilities LotConfig  ... PoolArea PoolQC Fence MiscFeature  \\\n",
       "Id                                  ...                                     \n",
       "1          Lvl    AllPub    Inside  ...        0    NaN   NaN         NaN   \n",
       "2          Lvl    AllPub       FR2  ...        0    NaN   NaN         NaN   \n",
       "3          Lvl    AllPub    Inside  ...        0    NaN   NaN         NaN   \n",
       "4          Lvl    AllPub    Corner  ...        0    NaN   NaN         NaN   \n",
       "5          Lvl    AllPub       FR2  ...        0    NaN   NaN         NaN   \n",
       "\n",
       "   MiscVal MoSold  YrSold  SaleType  SaleCondition  SalePrice  \n",
       "Id                                                             \n",
       "1        0      2    2008        WD         Normal     208500  \n",
       "2        0      5    2007        WD         Normal     181500  \n",
       "3        0      9    2008        WD         Normal     223500  \n",
       "4        0      2    2006        WD        Abnorml     140000  \n",
       "5        0     12    2008        WD         Normal     250000  \n",
       "\n",
       "[5 rows x 80 columns]"
      ]
     },
     "execution_count": 8,
     "metadata": {},
     "output_type": "execute_result"
    }
   ],
   "source": [
    "df.head()"
   ]
  },
  {
   "cell_type": "markdown",
   "id": "0cd8677e",
   "metadata": {},
   "source": [
    "## Clean Data Frame"
   ]
  },
  {
   "cell_type": "code",
   "execution_count": 9,
   "id": "87c52353",
   "metadata": {},
   "outputs": [],
   "source": [
    "df_null  = df[df.isnull().sum()[df.isnull().sum()>0].index]"
   ]
  },
  {
   "cell_type": "code",
   "execution_count": 10,
   "id": "6400c498",
   "metadata": {},
   "outputs": [
    {
     "data": {
      "application/vnd.microsoft.datawrangler.viewer.v0+json": {
       "columns": [
        {
         "name": "Id",
         "rawType": "int64",
         "type": "integer"
        },
        {
         "name": "MSZoning",
         "rawType": "object",
         "type": "string"
        },
        {
         "name": "LotFrontage",
         "rawType": "float64",
         "type": "float"
        },
        {
         "name": "Alley",
         "rawType": "object",
         "type": "unknown"
        },
        {
         "name": "Utilities",
         "rawType": "object",
         "type": "string"
        },
        {
         "name": "Exterior1st",
         "rawType": "object",
         "type": "string"
        },
        {
         "name": "Exterior2nd",
         "rawType": "object",
         "type": "string"
        },
        {
         "name": "MasVnrType",
         "rawType": "object",
         "type": "unknown"
        },
        {
         "name": "MasVnrArea",
         "rawType": "float64",
         "type": "float"
        },
        {
         "name": "BsmtQual",
         "rawType": "object",
         "type": "string"
        },
        {
         "name": "BsmtCond",
         "rawType": "object",
         "type": "string"
        },
        {
         "name": "BsmtExposure",
         "rawType": "object",
         "type": "string"
        },
        {
         "name": "BsmtFinType1",
         "rawType": "object",
         "type": "string"
        },
        {
         "name": "BsmtFinSF1",
         "rawType": "float64",
         "type": "float"
        },
        {
         "name": "BsmtFinType2",
         "rawType": "object",
         "type": "string"
        },
        {
         "name": "BsmtFinSF2",
         "rawType": "float64",
         "type": "float"
        },
        {
         "name": "BsmtUnfSF",
         "rawType": "float64",
         "type": "float"
        },
        {
         "name": "TotalBsmtSF",
         "rawType": "float64",
         "type": "float"
        },
        {
         "name": "Electrical",
         "rawType": "object",
         "type": "string"
        },
        {
         "name": "BsmtFullBath",
         "rawType": "float64",
         "type": "float"
        },
        {
         "name": "BsmtHalfBath",
         "rawType": "float64",
         "type": "float"
        },
        {
         "name": "KitchenQual",
         "rawType": "object",
         "type": "string"
        },
        {
         "name": "Functional",
         "rawType": "object",
         "type": "string"
        },
        {
         "name": "FireplaceQu",
         "rawType": "object",
         "type": "unknown"
        },
        {
         "name": "GarageType",
         "rawType": "object",
         "type": "string"
        },
        {
         "name": "GarageYrBlt",
         "rawType": "float64",
         "type": "float"
        },
        {
         "name": "GarageFinish",
         "rawType": "object",
         "type": "string"
        },
        {
         "name": "GarageCars",
         "rawType": "float64",
         "type": "float"
        },
        {
         "name": "GarageArea",
         "rawType": "float64",
         "type": "float"
        },
        {
         "name": "GarageQual",
         "rawType": "object",
         "type": "string"
        },
        {
         "name": "GarageCond",
         "rawType": "object",
         "type": "string"
        },
        {
         "name": "PoolQC",
         "rawType": "object",
         "type": "unknown"
        },
        {
         "name": "Fence",
         "rawType": "object",
         "type": "unknown"
        },
        {
         "name": "MiscFeature",
         "rawType": "object",
         "type": "unknown"
        },
        {
         "name": "SaleType",
         "rawType": "object",
         "type": "string"
        }
       ],
       "ref": "13c8eebb-09ef-49a1-9864-c0391e6b24de",
       "rows": [
        [
         "1",
         "RL",
         "65.0",
         null,
         "AllPub",
         "VinylSd",
         "VinylSd",
         "BrkFace",
         "196.0",
         "Gd",
         "TA",
         "No",
         "GLQ",
         "706.0",
         "Unf",
         "0.0",
         "150.0",
         "856.0",
         "SBrkr",
         "1.0",
         "0.0",
         "Gd",
         "Typ",
         null,
         "Attchd",
         "2003.0",
         "RFn",
         "2.0",
         "548.0",
         "TA",
         "TA",
         null,
         null,
         null,
         "WD"
        ],
        [
         "2",
         "RL",
         "80.0",
         null,
         "AllPub",
         "MetalSd",
         "MetalSd",
         null,
         "0.0",
         "Gd",
         "TA",
         "Gd",
         "ALQ",
         "978.0",
         "Unf",
         "0.0",
         "284.0",
         "1262.0",
         "SBrkr",
         "0.0",
         "1.0",
         "TA",
         "Typ",
         "TA",
         "Attchd",
         "1976.0",
         "RFn",
         "2.0",
         "460.0",
         "TA",
         "TA",
         null,
         null,
         null,
         "WD"
        ],
        [
         "3",
         "RL",
         "68.0",
         null,
         "AllPub",
         "VinylSd",
         "VinylSd",
         "BrkFace",
         "162.0",
         "Gd",
         "TA",
         "Mn",
         "GLQ",
         "486.0",
         "Unf",
         "0.0",
         "434.0",
         "920.0",
         "SBrkr",
         "1.0",
         "0.0",
         "Gd",
         "Typ",
         "TA",
         "Attchd",
         "2001.0",
         "RFn",
         "2.0",
         "608.0",
         "TA",
         "TA",
         null,
         null,
         null,
         "WD"
        ],
        [
         "4",
         "RL",
         "60.0",
         null,
         "AllPub",
         "Wd Sdng",
         "Wd Shng",
         null,
         "0.0",
         "TA",
         "Gd",
         "No",
         "ALQ",
         "216.0",
         "Unf",
         "0.0",
         "540.0",
         "756.0",
         "SBrkr",
         "1.0",
         "0.0",
         "Gd",
         "Typ",
         "Gd",
         "Detchd",
         "1998.0",
         "Unf",
         "3.0",
         "642.0",
         "TA",
         "TA",
         null,
         null,
         null,
         "WD"
        ],
        [
         "5",
         "RL",
         "84.0",
         null,
         "AllPub",
         "VinylSd",
         "VinylSd",
         "BrkFace",
         "350.0",
         "Gd",
         "TA",
         "Av",
         "GLQ",
         "655.0",
         "Unf",
         "0.0",
         "490.0",
         "1145.0",
         "SBrkr",
         "1.0",
         "0.0",
         "Gd",
         "Typ",
         "TA",
         "Attchd",
         "2000.0",
         "RFn",
         "3.0",
         "836.0",
         "TA",
         "TA",
         null,
         null,
         null,
         "WD"
        ]
       ],
       "shape": {
        "columns": 34,
        "rows": 5
       }
      },
      "text/html": [
       "<div>\n",
       "<style scoped>\n",
       "    .dataframe tbody tr th:only-of-type {\n",
       "        vertical-align: middle;\n",
       "    }\n",
       "\n",
       "    .dataframe tbody tr th {\n",
       "        vertical-align: top;\n",
       "    }\n",
       "\n",
       "    .dataframe thead th {\n",
       "        text-align: right;\n",
       "    }\n",
       "</style>\n",
       "<table border=\"1\" class=\"dataframe\">\n",
       "  <thead>\n",
       "    <tr style=\"text-align: right;\">\n",
       "      <th></th>\n",
       "      <th>MSZoning</th>\n",
       "      <th>LotFrontage</th>\n",
       "      <th>Alley</th>\n",
       "      <th>Utilities</th>\n",
       "      <th>Exterior1st</th>\n",
       "      <th>Exterior2nd</th>\n",
       "      <th>MasVnrType</th>\n",
       "      <th>MasVnrArea</th>\n",
       "      <th>BsmtQual</th>\n",
       "      <th>BsmtCond</th>\n",
       "      <th>...</th>\n",
       "      <th>GarageYrBlt</th>\n",
       "      <th>GarageFinish</th>\n",
       "      <th>GarageCars</th>\n",
       "      <th>GarageArea</th>\n",
       "      <th>GarageQual</th>\n",
       "      <th>GarageCond</th>\n",
       "      <th>PoolQC</th>\n",
       "      <th>Fence</th>\n",
       "      <th>MiscFeature</th>\n",
       "      <th>SaleType</th>\n",
       "    </tr>\n",
       "    <tr>\n",
       "      <th>Id</th>\n",
       "      <th></th>\n",
       "      <th></th>\n",
       "      <th></th>\n",
       "      <th></th>\n",
       "      <th></th>\n",
       "      <th></th>\n",
       "      <th></th>\n",
       "      <th></th>\n",
       "      <th></th>\n",
       "      <th></th>\n",
       "      <th></th>\n",
       "      <th></th>\n",
       "      <th></th>\n",
       "      <th></th>\n",
       "      <th></th>\n",
       "      <th></th>\n",
       "      <th></th>\n",
       "      <th></th>\n",
       "      <th></th>\n",
       "      <th></th>\n",
       "      <th></th>\n",
       "    </tr>\n",
       "  </thead>\n",
       "  <tbody>\n",
       "    <tr>\n",
       "      <th>1</th>\n",
       "      <td>RL</td>\n",
       "      <td>65.0</td>\n",
       "      <td>NaN</td>\n",
       "      <td>AllPub</td>\n",
       "      <td>VinylSd</td>\n",
       "      <td>VinylSd</td>\n",
       "      <td>BrkFace</td>\n",
       "      <td>196.0</td>\n",
       "      <td>Gd</td>\n",
       "      <td>TA</td>\n",
       "      <td>...</td>\n",
       "      <td>2003.0</td>\n",
       "      <td>RFn</td>\n",
       "      <td>2.0</td>\n",
       "      <td>548.0</td>\n",
       "      <td>TA</td>\n",
       "      <td>TA</td>\n",
       "      <td>NaN</td>\n",
       "      <td>NaN</td>\n",
       "      <td>NaN</td>\n",
       "      <td>WD</td>\n",
       "    </tr>\n",
       "    <tr>\n",
       "      <th>2</th>\n",
       "      <td>RL</td>\n",
       "      <td>80.0</td>\n",
       "      <td>NaN</td>\n",
       "      <td>AllPub</td>\n",
       "      <td>MetalSd</td>\n",
       "      <td>MetalSd</td>\n",
       "      <td>NaN</td>\n",
       "      <td>0.0</td>\n",
       "      <td>Gd</td>\n",
       "      <td>TA</td>\n",
       "      <td>...</td>\n",
       "      <td>1976.0</td>\n",
       "      <td>RFn</td>\n",
       "      <td>2.0</td>\n",
       "      <td>460.0</td>\n",
       "      <td>TA</td>\n",
       "      <td>TA</td>\n",
       "      <td>NaN</td>\n",
       "      <td>NaN</td>\n",
       "      <td>NaN</td>\n",
       "      <td>WD</td>\n",
       "    </tr>\n",
       "    <tr>\n",
       "      <th>3</th>\n",
       "      <td>RL</td>\n",
       "      <td>68.0</td>\n",
       "      <td>NaN</td>\n",
       "      <td>AllPub</td>\n",
       "      <td>VinylSd</td>\n",
       "      <td>VinylSd</td>\n",
       "      <td>BrkFace</td>\n",
       "      <td>162.0</td>\n",
       "      <td>Gd</td>\n",
       "      <td>TA</td>\n",
       "      <td>...</td>\n",
       "      <td>2001.0</td>\n",
       "      <td>RFn</td>\n",
       "      <td>2.0</td>\n",
       "      <td>608.0</td>\n",
       "      <td>TA</td>\n",
       "      <td>TA</td>\n",
       "      <td>NaN</td>\n",
       "      <td>NaN</td>\n",
       "      <td>NaN</td>\n",
       "      <td>WD</td>\n",
       "    </tr>\n",
       "    <tr>\n",
       "      <th>4</th>\n",
       "      <td>RL</td>\n",
       "      <td>60.0</td>\n",
       "      <td>NaN</td>\n",
       "      <td>AllPub</td>\n",
       "      <td>Wd Sdng</td>\n",
       "      <td>Wd Shng</td>\n",
       "      <td>NaN</td>\n",
       "      <td>0.0</td>\n",
       "      <td>TA</td>\n",
       "      <td>Gd</td>\n",
       "      <td>...</td>\n",
       "      <td>1998.0</td>\n",
       "      <td>Unf</td>\n",
       "      <td>3.0</td>\n",
       "      <td>642.0</td>\n",
       "      <td>TA</td>\n",
       "      <td>TA</td>\n",
       "      <td>NaN</td>\n",
       "      <td>NaN</td>\n",
       "      <td>NaN</td>\n",
       "      <td>WD</td>\n",
       "    </tr>\n",
       "    <tr>\n",
       "      <th>5</th>\n",
       "      <td>RL</td>\n",
       "      <td>84.0</td>\n",
       "      <td>NaN</td>\n",
       "      <td>AllPub</td>\n",
       "      <td>VinylSd</td>\n",
       "      <td>VinylSd</td>\n",
       "      <td>BrkFace</td>\n",
       "      <td>350.0</td>\n",
       "      <td>Gd</td>\n",
       "      <td>TA</td>\n",
       "      <td>...</td>\n",
       "      <td>2000.0</td>\n",
       "      <td>RFn</td>\n",
       "      <td>3.0</td>\n",
       "      <td>836.0</td>\n",
       "      <td>TA</td>\n",
       "      <td>TA</td>\n",
       "      <td>NaN</td>\n",
       "      <td>NaN</td>\n",
       "      <td>NaN</td>\n",
       "      <td>WD</td>\n",
       "    </tr>\n",
       "  </tbody>\n",
       "</table>\n",
       "<p>5 rows × 34 columns</p>\n",
       "</div>"
      ],
      "text/plain": [
       "   MSZoning  LotFrontage Alley Utilities Exterior1st Exterior2nd MasVnrType  \\\n",
       "Id                                                                            \n",
       "1        RL         65.0   NaN    AllPub     VinylSd     VinylSd    BrkFace   \n",
       "2        RL         80.0   NaN    AllPub     MetalSd     MetalSd        NaN   \n",
       "3        RL         68.0   NaN    AllPub     VinylSd     VinylSd    BrkFace   \n",
       "4        RL         60.0   NaN    AllPub     Wd Sdng     Wd Shng        NaN   \n",
       "5        RL         84.0   NaN    AllPub     VinylSd     VinylSd    BrkFace   \n",
       "\n",
       "    MasVnrArea BsmtQual BsmtCond  ... GarageYrBlt GarageFinish  GarageCars  \\\n",
       "Id                                ...                                        \n",
       "1        196.0       Gd       TA  ...      2003.0          RFn         2.0   \n",
       "2          0.0       Gd       TA  ...      1976.0          RFn         2.0   \n",
       "3        162.0       Gd       TA  ...      2001.0          RFn         2.0   \n",
       "4          0.0       TA       Gd  ...      1998.0          Unf         3.0   \n",
       "5        350.0       Gd       TA  ...      2000.0          RFn         3.0   \n",
       "\n",
       "   GarageArea  GarageQual  GarageCond  PoolQC Fence  MiscFeature  SaleType  \n",
       "Id                                                                          \n",
       "1       548.0          TA          TA     NaN   NaN          NaN        WD  \n",
       "2       460.0          TA          TA     NaN   NaN          NaN        WD  \n",
       "3       608.0          TA          TA     NaN   NaN          NaN        WD  \n",
       "4       642.0          TA          TA     NaN   NaN          NaN        WD  \n",
       "5       836.0          TA          TA     NaN   NaN          NaN        WD  \n",
       "\n",
       "[5 rows x 34 columns]"
      ]
     },
     "execution_count": 10,
     "metadata": {},
     "output_type": "execute_result"
    }
   ],
   "source": [
    "df_null.head()"
   ]
  },
  {
   "cell_type": "code",
   "execution_count": 11,
   "id": "69f70099",
   "metadata": {},
   "outputs": [
    {
     "data": {
      "text/plain": [
       "<Axes: ylabel='Id'>"
      ]
     },
     "execution_count": 11,
     "metadata": {},
     "output_type": "execute_result"
    },
    {
     "data": {
      "image/png": "[encoded data removed]",
      "text/plain": [
       "<Figure size 640x480 with 2 Axes>"
      ]
     },
     "metadata": {},
     "output_type": "display_data"
    }
   ],
   "source": [
    "sns.heatmap(df_null.isnull())"
   ]
  },
  {
   "cell_type": "code",
   "execution_count": 12,
   "id": "7dc9d17e",
   "metadata": {},
   "outputs": [],
   "source": [
    "df_objects =  df[df.select_dtypes(include=['object']).columns]\n",
    "df = df.drop(df[df_objects.isna().sum()[df_objects.isna().sum() > 1100].index], axis = 1)"
   ]
  },
  {
   "cell_type": "code",
   "execution_count": 13,
   "id": "3deea559",
   "metadata": {},
   "outputs": [],
   "source": [
    "df_objects = df_objects.drop(df_objects[df_objects.isna().sum()[df_objects.isna().sum() > 1100].index], axis = 1)\n",
    "df_objects = df_objects.fillna('null')\n",
    "df_objects_encoded = pd.get_dummies(df_objects)"
   ]
  },
  {
   "cell_type": "code",
   "execution_count": 14,
   "id": "6144bb5b",
   "metadata": {},
   "outputs": [
    {
     "name": "stdout",
     "output_type": "stream",
     "text": [
      "MSZoning_null\n",
      "Utilities_null\n",
      "Exterior1st_null\n",
      "Exterior2nd_null\n",
      "BsmtQual_null\n",
      "BsmtCond_null\n",
      "BsmtExposure_null\n",
      "BsmtFinType1_null\n",
      "BsmtFinType2_null\n",
      "Electrical_null\n",
      "KitchenQual_null\n",
      "Functional_null\n",
      "GarageType_null\n",
      "GarageFinish_null\n",
      "GarageQual_null\n",
      "GarageCond_null\n",
      "SaleType_null\n"
     ]
    }
   ],
   "source": [
    "for i in df_objects_encoded.columns:\n",
    "    if 'null' in i:\n",
    "        df_objects_encoded = df_objects_encoded.drop(i, axis = 1)\n",
    "        print(i)"
   ]
  },
  {
   "cell_type": "code",
   "execution_count": 15,
   "id": "65131c50",
   "metadata": {},
   "outputs": [],
   "source": [
    "new_df = pd.concat([df, df_objects_encoded], axis = 1)"
   ]
  },
  {
   "cell_type": "code",
   "execution_count": 16,
   "id": "e4783695",
   "metadata": {},
   "outputs": [
    {
     "data": {
      "text/plain": [
       "304"
      ]
     },
     "execution_count": 16,
     "metadata": {},
     "output_type": "execute_result"
    }
   ],
   "source": [
    "len(new_df.columns)"
   ]
  },
  {
   "cell_type": "code",
   "execution_count": 17,
   "id": "febbd40d",
   "metadata": {},
   "outputs": [
    {
     "data": {
      "text/plain": [
       "(74, 230)"
      ]
     },
     "execution_count": 17,
     "metadata": {},
     "output_type": "execute_result"
    }
   ],
   "source": [
    "len(df.columns), len(df_objects_encoded.columns)"
   ]
  },
  {
   "cell_type": "code",
   "execution_count": 18,
   "id": "45bf5fe7",
   "metadata": {},
   "outputs": [
    {
     "data": {
      "application/vnd.microsoft.datawrangler.viewer.v0+json": {
       "columns": [
        {
         "name": "index",
         "rawType": "object",
         "type": "string"
        },
        {
         "name": "0",
         "rawType": "int64",
         "type": "integer"
        }
       ],
       "ref": "8b0ce80a-900a-4206-8590-ddd42f89ba9e",
       "rows": [
        [
         "LotFrontage",
         "486"
        ],
        [
         "MasVnrArea",
         "23"
        ],
        [
         "BsmtFinSF1",
         "1"
        ],
        [
         "BsmtFinSF2",
         "1"
        ],
        [
         "BsmtUnfSF",
         "1"
        ],
        [
         "TotalBsmtSF",
         "1"
        ],
        [
         "BsmtFullBath",
         "2"
        ],
        [
         "BsmtHalfBath",
         "2"
        ],
        [
         "GarageYrBlt",
         "159"
        ],
        [
         "GarageCars",
         "1"
        ],
        [
         "GarageArea",
         "1"
        ]
       ],
       "shape": {
        "columns": 1,
        "rows": 11
       }
      },
      "text/plain": [
       "LotFrontage     486\n",
       "MasVnrArea       23\n",
       "BsmtFinSF1        1\n",
       "BsmtFinSF2        1\n",
       "BsmtUnfSF         1\n",
       "TotalBsmtSF       1\n",
       "BsmtFullBath      2\n",
       "BsmtHalfBath      2\n",
       "GarageYrBlt     159\n",
       "GarageCars        1\n",
       "GarageArea        1\n",
       "dtype: int64"
      ]
     },
     "execution_count": 18,
     "metadata": {},
     "output_type": "execute_result"
    }
   ],
   "source": [
    "new_df = new_df.drop(df.select_dtypes(include=['object']), axis = 1)\n",
    "\n",
    "new_df.isna().sum()[new_df.isna().sum() > 0]"
   ]
  },
  {
   "cell_type": "code",
   "execution_count": 19,
   "id": "ab877008",
   "metadata": {},
   "outputs": [
    {
     "data": {
      "application/vnd.microsoft.datawrangler.viewer.v0+json": {
       "columns": [
        {
         "name": "index",
         "rawType": "object",
         "type": "string"
        },
        {
         "name": "0",
         "rawType": "int64",
         "type": "integer"
        }
       ],
       "ref": "800f3397-ed81-4b8a-b057-981c3c115c0a",
       "rows": [],
       "shape": {
        "columns": 1,
        "rows": 0
       }
      },
      "text/plain": [
       "Series([], dtype: int64)"
      ]
     },
     "execution_count": 19,
     "metadata": {},
     "output_type": "execute_result"
    }
   ],
   "source": [
    "Mode_columns = ['GarageCars', 'GarageYrBlt', 'BsmtFullBath', 'BsmtHalfBath']\n",
    "Mean_columns = ['LotFrontage', 'MasVnrArea', 'BsmtFinSF1', 'BsmtFinSF2', 'BsmtUnfSF',\n",
    "                'TotalBsmtSF', 'GarageArea']\n",
    "\n",
    "for i in Mode_columns:\n",
    "    new_df[i] = new_df[i].fillna(new_df[i].mode()[0])\n",
    "\n",
    "for i in Mean_columns:\n",
    "    new_df[i] = new_df[i].fillna(np.round(new_df[i].mean()))\n",
    "\n",
    "new_df.isna().sum()[new_df.isna().sum() > 0]"
   ]
  },
  {
   "cell_type": "code",
   "execution_count": 20,
   "id": "99578ab4",
   "metadata": {},
   "outputs": [],
   "source": [
    "training_data = new_df[0:len(train_df)]\n",
    "testing_data = new_df[len(train_df):]\n",
    "testing_data = testing_data.drop(columns='SalePrice')"
   ]
  },
  {
   "cell_type": "markdown",
   "id": "f4d7182c",
   "metadata": {},
   "source": [
    "## split data"
   ]
  },
  {
   "cell_type": "code",
   "execution_count": 21,
   "id": "68b359b3",
   "metadata": {},
   "outputs": [],
   "source": [
    "from sklearn.model_selection import train_test_split"
   ]
  },
  {
   "cell_type": "code",
   "execution_count": 22,
   "id": "a39089a8",
   "metadata": {},
   "outputs": [
    {
     "data": {
      "text/plain": [
       "((1168, 266), (1168, 1))"
      ]
     },
     "execution_count": 22,
     "metadata": {},
     "output_type": "execute_result"
    }
   ],
   "source": [
    "X = training_data.drop(columns='SalePrice')\n",
    "y = training_data['SalePrice']\n",
    "X_train, X_test, Y_train, Y_test = train_test_split(X, y, test_size = 0.2)\n",
    "Y_train = np.reshape(Y_train,(-1, 1))\n",
    "Y_test = np.reshape(Y_test,(-1, 1))\n",
    "X_train.shape, Y_train.shape"
   ]
  },
  {
   "cell_type": "markdown",
   "id": "2609a2ea",
   "metadata": {},
   "source": [
    "# Training models"
   ]
  },
  {
   "cell_type": "code",
   "execution_count": 23,
   "id": "0324a216",
   "metadata": {},
   "outputs": [],
   "source": [
    "from sklearn.metrics import mean_squared_error\n",
    "from sklearn.linear_model import LinearRegression"
   ]
  },
  {
   "cell_type": "code",
   "execution_count": 24,
   "id": "25cc4efe",
   "metadata": {},
   "outputs": [],
   "source": [
    "model_info = {}"
   ]
  },
  {
   "cell_type": "code",
   "execution_count": 25,
   "id": "eabb927c",
   "metadata": {},
   "outputs": [
    {
     "data": {
      "text/plain": [
       "{'LinearRegression': 260222920.54688713}"
      ]
     },
     "execution_count": 25,
     "metadata": {},
     "output_type": "execute_result"
    }
   ],
   "source": [
    "model_1 = LinearRegression()\n",
    "model_1.fit(X, y)\n",
    "y_pred = model_1.predict(X_test)\n",
    "model_info[\"LinearRegression\"] = mean_squared_error(Y_test, y_pred)\n",
    "model_info"
   ]
  },
  {
   "cell_type": "code",
   "execution_count": 26,
   "id": "293ff7a5",
   "metadata": {},
   "outputs": [],
   "source": [
    "from xgboost import XGBRegressor"
   ]
  },
  {
   "cell_type": "code",
   "execution_count": 27,
   "id": "7f0428da",
   "metadata": {},
   "outputs": [
    {
     "data": {
      "text/plain": [
       "{'LinearRegression': 260222920.54688713, 'XGBRegressor': 6301.4996362451}"
      ]
     },
     "execution_count": 27,
     "metadata": {},
     "output_type": "execute_result"
    }
   ],
   "source": [
    "model_2 = XGBRegressor(n_estimators=1000, learning_rate=0.1, random_state=42)\n",
    "model_2.fit(X, y)\n",
    "y_pred = model_2.predict(X_test)\n",
    "model_info[\"XGBRegressor\"] = mean_squared_error(Y_test, y_pred)\n",
    "model_info"
   ]
  },
  {
   "cell_type": "code",
   "execution_count": 28,
   "id": "2272b0b6",
   "metadata": {},
   "outputs": [],
   "source": [
    "from sklearn.ensemble import RandomForestRegressor"
   ]
  },
  {
   "cell_type": "code",
   "execution_count": 29,
   "id": "6e51b3a5",
   "metadata": {},
   "outputs": [
    {
     "data": {
      "text/plain": [
       "{'LinearRegression': 260222920.54688713,\n",
       " 'XGBRegressor': 6301.4996362451,\n",
       " 'RandomForestRegressor': 71983596.7265825}"
      ]
     },
     "execution_count": 29,
     "metadata": {},
     "output_type": "execute_result"
    }
   ],
   "source": [
    "model_3 = RandomForestRegressor(n_estimators=1000)\n",
    "model_3.fit(X, y)\n",
    "y_pred = model_3.predict(X_test)\n",
    "model_info[\"RandomForestRegressor\"] = mean_squared_error(Y_test, y_pred)\n",
    "model_info"
   ]
  },
  {
   "cell_type": "code",
   "execution_count": 30,
   "id": "d8906745",
   "metadata": {},
   "outputs": [],
   "source": [
    "import lightgbm as lgb"
   ]
  },
  {
   "cell_type": "code",
   "execution_count": 31,
   "id": "1adfb32e",
   "metadata": {},
   "outputs": [
    {
     "name": "stdout",
     "output_type": "stream",
     "text": [
      "[LightGBM] [Warning] Found whitespace in feature_names, replace with underlines\n",
      "[LightGBM] [Info] Auto-choosing col-wise multi-threading, the overhead of testing was 0.001458 seconds.\n",
      "You can set `force_col_wise=true` to remove the overhead.\n",
      "[LightGBM] [Info] Total Bins 3437\n",
      "[LightGBM] [Info] Number of data points in the train set: 1460, number of used features: 175\n",
      "[LightGBM] [Info] Start training from score 180921.195890\n"
     ]
    },
    {
     "data": {
      "text/plain": [
       "{'LinearRegression': 260222920.54688713,\n",
       " 'XGBRegressor': 6301.4996362451,\n",
       " 'RandomForestRegressor': 71983596.7265825,\n",
       " 'LGBMRegressor': 71983596.7265825}"
      ]
     },
     "execution_count": 31,
     "metadata": {},
     "output_type": "execute_result"
    }
   ],
   "source": [
    "model_4 = lgb.LGBMRegressor(\n",
    "    objective='regression',\n",
    "    metric='rmse',\n",
    "    boosting_type='gbdt',\n",
    "    n_estimators=1000,\n",
    "    learning_rate=0.05,\n",
    "    num_leaves=31\n",
    ")\n",
    "\n",
    "model_4.fit(X, y)\n",
    "y_pred = model_3.predict(X_test)\n",
    "model_info[\"LGBMRegressor\"] = mean_squared_error(Y_test, y_pred)\n",
    "model_info"
   ]
  },
  {
   "cell_type": "code",
   "execution_count": 32,
   "id": "46721adf",
   "metadata": {},
   "outputs": [],
   "source": [
    "from catboost import CatBoostRegressor"
   ]
  },
  {
   "cell_type": "code",
   "execution_count": 33,
   "id": "e3deb035",
   "metadata": {},
   "outputs": [
    {
     "name": "stdout",
     "output_type": "stream",
     "text": [
      "0:\tlearn: 76783.9633881\ttotal: 52.7ms\tremaining: 52.7s\n",
      "100:\tlearn: 20490.4729417\ttotal: 221ms\tremaining: 1.97s\n",
      "200:\tlearn: 16128.2671998\ttotal: 481ms\tremaining: 1.91s\n",
      "300:\tlearn: 13516.4571353\ttotal: 641ms\tremaining: 1.49s\n",
      "400:\tlearn: 11645.5467542\ttotal: 797ms\tremaining: 1.19s\n",
      "500:\tlearn: 10239.4799506\ttotal: 951ms\tremaining: 948ms\n",
      "600:\tlearn: 9034.6047287\ttotal: 1.13s\tremaining: 748ms\n",
      "700:\tlearn: 8034.1506829\ttotal: 1.32s\tremaining: 561ms\n",
      "800:\tlearn: 7212.8753866\ttotal: 1.53s\tremaining: 380ms\n",
      "900:\tlearn: 6519.8902728\ttotal: 1.7s\tremaining: 186ms\n",
      "999:\tlearn: 5813.9734862\ttotal: 1.86s\tremaining: 0us\n"
     ]
    },
    {
     "data": {
      "text/plain": [
       "{'LinearRegression': 260222920.54688713,\n",
       " 'XGBRegressor': 6301.4996362451,\n",
       " 'RandomForestRegressor': 71983596.7265825,\n",
       " 'LGBMRegressor': 71983596.7265825,\n",
       " 'CatBoostRegressor': 33598599.379294954}"
      ]
     },
     "execution_count": 33,
     "metadata": {},
     "output_type": "execute_result"
    }
   ],
   "source": [
    "model_5 = CatBoostRegressor(\n",
    "    iterations=1000,\n",
    "    learning_rate=0.05,\n",
    "    depth=6,\n",
    "    loss_function='RMSE',\n",
    "    early_stopping_rounds=100,\n",
    "    verbose=100\n",
    ")\n",
    "\n",
    "model_5.fit(X, y)\n",
    "y_pred = model_5.predict(X_test)\n",
    "model_info[\"CatBoostRegressor\"] = mean_squared_error(Y_test, y_pred)\n",
    "model_info"
   ]
  },
  {
   "cell_type": "code",
   "execution_count": 34,
   "id": "cbb2bcce",
   "metadata": {},
   "outputs": [
    {
     "data": {
      "text/plain": [
       "'XGBRegressor'"
      ]
     },
     "execution_count": 34,
     "metadata": {},
     "output_type": "execute_result"
    }
   ],
   "source": [
    "min(model_info, key=model_info.get)"
   ]
  },
  {
   "cell_type": "markdown",
   "id": "fec61728",
   "metadata": {},
   "source": [
    "## tuning"
   ]
  },
  {
   "cell_type": "code",
   "execution_count": 35,
   "id": "0bcd96f8",
   "metadata": {},
   "outputs": [],
   "source": [
    "from sklearn.model_selection import cross_val_score"
   ]
  },
  {
   "cell_type": "code",
   "execution_count": 36,
   "id": "717c6163",
   "metadata": {},
   "outputs": [
    {
     "name": "stderr",
     "output_type": "stream",
     "text": [
      "/usr/local/anaconda3/envs/ml-algo/lib/python3.12/site-packages/tqdm/auto.py:21: TqdmWarning: IProgress not found. Please update jupyter and ipywidgets. See https://ipywidgets.readthedocs.io/en/stable/user_install.html\n",
      "  from .autonotebook import tqdm as notebook_tqdm\n",
      "[I 2025-05-29 16:20:34,735] A new study created in memory with name: no-name-4e06478c-c9bb-42a1-8c65-0521839a7b2b\n",
      "[I 2025-05-29 16:20:55,542] Trial 0 finished with value: 79160.13942651359 and parameters: {'n_estimators': 500, 'max_depth': 9, 'learning_rate': 4.4282240301776435e-06, 'subsample': 0.7246406620072101, 'colsample_bytree': 0.3022779877425631}. Best is trial 0 with value: 79160.13942651359.\n",
      "[I 2025-05-29 16:21:25,206] Trial 1 finished with value: 40407.788199103794 and parameters: {'n_estimators': 2000, 'max_depth': 5, 'learning_rate': 0.0007348534170982781, 'subsample': 0.15841518491557646, 'colsample_bytree': 0.36682978207769834}. Best is trial 1 with value: 40407.788199103794.\n",
      "[I 2025-05-29 16:23:12,033] Trial 2 finished with value: 35871.28458164017 and parameters: {'n_estimators': 3000, 'max_depth': 7, 'learning_rate': 0.0005267837574634613, 'subsample': 0.5628305833091534, 'colsample_bytree': 0.8596903268985736}. Best is trial 2 with value: 35871.28458164017.\n",
      "[I 2025-05-29 16:23:50,777] Trial 3 finished with value: 28132.03083395051 and parameters: {'n_estimators': 1000, 'max_depth': 12, 'learning_rate': 0.003991525149994219, 'subsample': 0.36455170615713695, 'colsample_bytree': 0.45739768218602883}. Best is trial 3 with value: 28132.03083395051.\n",
      "[I 2025-05-29 16:24:15,986] Trial 4 finished with value: 27134.711081346544 and parameters: {'n_estimators': 2500, 'max_depth': 3, 'learning_rate': 0.003391521782593398, 'subsample': 0.3520252616654459, 'colsample_bytree': 0.6509184208285836}. Best is trial 4 with value: 27134.711081346544.\n",
      "[I 2025-05-29 16:26:23,187] Trial 5 finished with value: 26795.81678438001 and parameters: {'n_estimators': 2500, 'max_depth': 12, 'learning_rate': 0.0070523075822958685, 'subsample': 0.7280996795466373, 'colsample_bytree': 0.6918353019839698}. Best is trial 5 with value: 26795.81678438001.\n",
      "[I 2025-05-29 16:27:10,923] Trial 6 finished with value: 61360.82549062672 and parameters: {'n_estimators': 1500, 'max_depth': 7, 'learning_rate': 0.0002932406672068943, 'subsample': 0.17548222465354235, 'colsample_bytree': 0.42110138598353486}. Best is trial 5 with value: 26795.81678438001.\n",
      "[I 2025-05-29 16:28:09,097] Trial 7 finished with value: 78135.42832950738 and parameters: {'n_estimators': 2500, 'max_depth': 6, 'learning_rate': 8.789379823846147e-06, 'subsample': 0.4256265453457633, 'colsample_bytree': 0.3162277927286338}. Best is trial 5 with value: 26795.81678438001.\n",
      "[I 2025-05-29 16:29:40,251] Trial 8 finished with value: 26580.66681800897 and parameters: {'n_estimators': 3000, 'max_depth': 7, 'learning_rate': 0.08114884720678342, 'subsample': 0.823504752390518, 'colsample_bytree': 0.5996654060734952}. Best is trial 8 with value: 26580.66681800897.\n",
      "[I 2025-05-29 16:30:39,877] Trial 9 finished with value: 75232.81189697092 and parameters: {'n_estimators': 2500, 'max_depth': 12, 'learning_rate': 3.6618532966656384e-05, 'subsample': 0.14077146310217253, 'colsample_bytree': 0.25050032091594443}. Best is trial 8 with value: 26580.66681800897.\n",
      "[I 2025-05-29 16:32:03,727] Trial 10 finished with value: 28498.81848755283 and parameters: {'n_estimators': 3000, 'max_depth': 9, 'learning_rate': 0.08015553316639984, 'subsample': 0.9533408835808921, 'colsample_bytree': 0.9991767424850411}. Best is trial 8 with value: 26580.66681800897.\n",
      "[I 2025-05-29 16:33:33,853] Trial 11 finished with value: 26994.709425378805 and parameters: {'n_estimators': 3000, 'max_depth': 10, 'learning_rate': 0.0649003001591027, 'subsample': 0.833356730140582, 'colsample_bytree': 0.6417854775198155}. Best is trial 8 with value: 26580.66681800897.\n",
      "[I 2025-05-29 16:35:23,204] Trial 12 finished with value: 27048.93184226934 and parameters: {'n_estimators': 2000, 'max_depth': 13, 'learning_rate': 0.013943009786711614, 'subsample': 0.7001305707068572, 'colsample_bytree': 0.7299111165112476}. Best is trial 8 with value: 26580.66681800897.\n",
      "[I 2025-05-29 16:37:19,217] Trial 13 finished with value: 27003.49714477179 and parameters: {'n_estimators': 2500, 'max_depth': 10, 'learning_rate': 0.015128518177205931, 'subsample': 0.9490237594265892, 'colsample_bytree': 0.5238616337950011}. Best is trial 8 with value: 26580.66681800897.\n",
      "[I 2025-05-29 16:37:36,486] Trial 14 finished with value: 25691.589430425178 and parameters: {'n_estimators': 1500, 'max_depth': 4, 'learning_rate': 0.016315930310137696, 'subsample': 0.7378668179789678, 'colsample_bytree': 0.7288342980128921}. Best is trial 14 with value: 25691.589430425178.\n",
      "[I 2025-05-29 16:37:50,374] Trial 15 finished with value: 25043.764742952815 and parameters: {'n_estimators': 1500, 'max_depth': 3, 'learning_rate': 0.03454507763505509, 'subsample': 0.5776614015716333, 'colsample_bytree': 0.8013439711449912}. Best is trial 15 with value: 25043.764742952815.\n",
      "[I 2025-05-29 16:38:05,059] Trial 16 finished with value: 71276.76501759383 and parameters: {'n_estimators': 1500, 'max_depth': 3, 'learning_rate': 0.00011131448868037358, 'subsample': 0.5706041285326164, 'colsample_bytree': 0.8201535993850532}. Best is trial 15 with value: 25043.764742952815.\n",
      "[I 2025-05-29 16:38:17,200] Trial 17 finished with value: 37824.31762052058 and parameters: {'n_estimators': 1000, 'max_depth': 4, 'learning_rate': 0.0015051109229753659, 'subsample': 0.4563872236064153, 'colsample_bytree': 0.8224308845054262}. Best is trial 15 with value: 25043.764742952815.\n",
      "[I 2025-05-29 16:38:33,109] Trial 18 finished with value: 25974.71194164508 and parameters: {'n_estimators': 1000, 'max_depth': 5, 'learning_rate': 0.023511238719511687, 'subsample': 0.6323762205817411, 'colsample_bytree': 0.9576387006210356}. Best is trial 15 with value: 25043.764742952815.\n",
      "[I 2025-05-29 16:38:52,161] Trial 19 finished with value: 79193.15737350719 and parameters: {'n_estimators': 1500, 'max_depth': 4, 'learning_rate': 1.0625345168716766e-06, 'subsample': 0.8311945519278783, 'colsample_bytree': 0.7478862539146671}. Best is trial 15 with value: 25043.764742952815.\n",
      "[I 2025-05-29 16:38:57,578] Trial 20 finished with value: 26434.65042229212 and parameters: {'n_estimators': 500, 'max_depth': 3, 'learning_rate': 0.029565732239153, 'subsample': 0.4696204979710735, 'colsample_bytree': 0.8910448083971346}. Best is trial 15 with value: 25043.764742952815.\n",
      "[I 2025-05-29 16:39:12,576] Trial 21 finished with value: 25891.34009402029 and parameters: {'n_estimators': 1000, 'max_depth': 5, 'learning_rate': 0.02723703958053911, 'subsample': 0.6344521251519948, 'colsample_bytree': 0.9959817228176663}. Best is trial 15 with value: 25043.764742952815.\n",
      "[I 2025-05-29 16:39:27,872] Trial 22 finished with value: 26635.849225198024 and parameters: {'n_estimators': 1000, 'max_depth': 5, 'learning_rate': 0.006325935492063909, 'subsample': 0.6479884830182695, 'colsample_bytree': 0.9104001321986862}. Best is trial 15 with value: 25043.764742952815.\n",
      "[I 2025-05-29 16:39:45,368] Trial 23 finished with value: 25547.864288856967 and parameters: {'n_estimators': 1500, 'max_depth': 4, 'learning_rate': 0.034423302188358575, 'subsample': 0.5387822273702328, 'colsample_bytree': 0.7753518458899759}. Best is trial 15 with value: 25043.764742952815.\n",
      "[I 2025-05-29 16:40:08,225] Trial 24 finished with value: 29013.540205995687 and parameters: {'n_estimators': 2000, 'max_depth': 4, 'learning_rate': 0.0017197640933280958, 'subsample': 0.5115617180182872, 'colsample_bytree': 0.7677880264590304}. Best is trial 15 with value: 25043.764742952815.\n",
      "[I 2025-05-29 16:40:29,021] Trial 25 finished with value: 26032.733674565367 and parameters: {'n_estimators': 1500, 'max_depth': 6, 'learning_rate': 0.010665000129806094, 'subsample': 0.2654207055133955, 'colsample_bytree': 0.5495765469974077}. Best is trial 15 with value: 25043.764742952815.\n",
      "[I 2025-05-29 16:40:47,396] Trial 26 finished with value: 25216.64731551809 and parameters: {'n_estimators': 1500, 'max_depth': 3, 'learning_rate': 0.04026923796077696, 'subsample': 0.7830906157763183, 'colsample_bytree': 0.8032627367855474}. Best is trial 15 with value: 25043.764742952815.\n",
      "[I 2025-05-29 16:41:07,881] Trial 27 finished with value: 25799.344085793407 and parameters: {'n_estimators': 2000, 'max_depth': 3, 'learning_rate': 0.03809318549919688, 'subsample': 0.8863803522411637, 'colsample_bytree': 0.79774962143068}. Best is trial 15 with value: 25043.764742952815.\n",
      "[I 2025-05-29 16:41:30,859] Trial 28 finished with value: 30644.507162450762 and parameters: {'n_estimators': 1500, 'max_depth': 3, 'learning_rate': 0.0021987411940050197, 'subsample': 0.5381920285964719, 'colsample_bytree': 0.9115382835435242}. Best is trial 15 with value: 25043.764742952815.\n",
      "[I 2025-05-29 16:41:45,950] Trial 29 finished with value: 26390.74621089882 and parameters: {'n_estimators': 500, 'max_depth': 6, 'learning_rate': 0.09784017710237536, 'subsample': 0.7685044737069003, 'colsample_bytree': 0.6604401564828508}. Best is trial 15 with value: 25043.764742952815.\n",
      "[I 2025-05-29 16:42:11,297] Trial 30 finished with value: 70733.03851951797 and parameters: {'n_estimators': 2000, 'max_depth': 4, 'learning_rate': 8.589872678250137e-05, 'subsample': 0.3749755681423944, 'colsample_bytree': 0.8526885846373327}. Best is trial 15 with value: 25043.764742952815.\n",
      "[I 2025-05-29 16:42:38,658] Trial 31 finished with value: 25242.67449496306 and parameters: {'n_estimators': 1500, 'max_depth': 4, 'learning_rate': 0.04312580274838925, 'subsample': 0.6845127079159938, 'colsample_bytree': 0.7145221163187025}. Best is trial 15 with value: 25043.764742952815.\n",
      "[I 2025-05-29 16:43:16,854] Trial 32 finished with value: 25613.17030455682 and parameters: {'n_estimators': 1500, 'max_depth': 5, 'learning_rate': 0.039447805320221824, 'subsample': 0.6712854142997486, 'colsample_bytree': 0.6978138176780418}. Best is trial 15 with value: 25043.764742952815.\n",
      "[I 2025-05-29 16:43:45,369] Trial 33 finished with value: 25337.467743926914 and parameters: {'n_estimators': 2000, 'max_depth': 4, 'learning_rate': 0.00755160354323091, 'subsample': 0.5950416751936071, 'colsample_bytree': 0.7882085748357932}. Best is trial 15 with value: 25043.764742952815.\n",
      "[I 2025-05-29 16:44:05,991] Trial 34 finished with value: 25967.84525997214 and parameters: {'n_estimators': 2000, 'max_depth': 3, 'learning_rate': 0.0060720994724565176, 'subsample': 0.5880729934758985, 'colsample_bytree': 0.8547961533594042}. Best is trial 15 with value: 25043.764742952815.\n",
      "[I 2025-05-29 16:44:42,807] Trial 35 finished with value: 38646.690385181064 and parameters: {'n_estimators': 2000, 'max_depth': 5, 'learning_rate': 0.0006781651480542182, 'subsample': 0.7869805122442785, 'colsample_bytree': 0.5915252768148981}. Best is trial 15 with value: 25043.764742952815.\n",
      "[I 2025-05-29 16:45:11,529] Trial 36 finished with value: 26313.2316065908 and parameters: {'n_estimators': 1000, 'max_depth': 8, 'learning_rate': 0.00860791219138209, 'subsample': 0.5985334430615212, 'colsample_bytree': 0.7137359415102765}. Best is trial 15 with value: 25043.764742952815.\n",
      "[I 2025-05-29 16:45:28,858] Trial 37 finished with value: 27343.855120925564 and parameters: {'n_estimators': 2000, 'max_depth': 3, 'learning_rate': 0.0034669216921316467, 'subsample': 0.69373171309455, 'colsample_bytree': 0.8254176908643718}. Best is trial 15 with value: 25043.764742952815.\n",
      "[I 2025-05-29 16:45:59,135] Trial 38 finished with value: 26018.290702191494 and parameters: {'n_estimators': 1500, 'max_depth': 6, 'learning_rate': 0.04788331170214973, 'subsample': 0.9981104878294278, 'colsample_bytree': 0.6666583527832269}. Best is trial 15 with value: 25043.764742952815.\n",
      "[I 2025-05-29 16:46:18,633] Trial 39 finished with value: 58693.927427155046 and parameters: {'n_estimators': 1500, 'max_depth': 4, 'learning_rate': 0.0003136708116645189, 'subsample': 0.7322772408928758, 'colsample_bytree': 0.7714776272386882}. Best is trial 15 with value: 25043.764742952815.\n",
      "[I 2025-05-29 16:47:27,823] Trial 40 finished with value: 26766.135092989367 and parameters: {'n_estimators': 2500, 'max_depth': 7, 'learning_rate': 0.019084980022142324, 'subsample': 0.8749038951004321, 'colsample_bytree': 0.8832337860990827}. Best is trial 15 with value: 25043.764742952815.\n",
      "[I 2025-05-29 16:47:42,560] Trial 41 finished with value: 25857.416922934088 and parameters: {'n_estimators': 1500, 'max_depth': 4, 'learning_rate': 0.0504103032595327, 'subsample': 0.5362096997353001, 'colsample_bytree': 0.7707499101245647}. Best is trial 15 with value: 25043.764742952815.\n",
      "[I 2025-05-29 16:47:57,983] Trial 42 finished with value: 24975.64579700785 and parameters: {'n_estimators': 1500, 'max_depth': 3, 'learning_rate': 0.09782782560750312, 'subsample': 0.6143491217365231, 'colsample_bytree': 0.7970633860213997}. Best is trial 42 with value: 24975.64579700785.\n",
      "[I 2025-05-29 16:48:21,802] Trial 43 finished with value: 26706.27629038202 and parameters: {'n_estimators': 2000, 'max_depth': 3, 'learning_rate': 0.09233224826670058, 'subsample': 0.6076283750419604, 'colsample_bytree': 0.9443800574150372}. Best is trial 42 with value: 24975.64579700785.\n",
      "[I 2025-05-29 16:48:29,855] Trial 44 finished with value: 25733.830484766768 and parameters: {'n_estimators': 1000, 'max_depth': 3, 'learning_rate': 0.05646648051317713, 'subsample': 0.6708293266414325, 'colsample_bytree': 0.63358999734837}. Best is trial 42 with value: 24975.64579700785.\n",
      "[I 2025-05-29 16:48:46,125] Trial 45 finished with value: 26442.67215229664 and parameters: {'n_estimators': 1500, 'max_depth': 4, 'learning_rate': 0.004888502946536664, 'subsample': 0.47133661168322327, 'colsample_bytree': 0.6978567814736407}. Best is trial 42 with value: 24975.64579700785.\n",
      "[I 2025-05-29 16:49:04,975] Trial 46 finished with value: 25624.019138596464 and parameters: {'n_estimators': 2000, 'max_depth': 3, 'learning_rate': 0.010728334898431032, 'subsample': 0.7721837937343126, 'colsample_bytree': 0.8045366360216942}. Best is trial 42 with value: 24975.64579700785.\n",
      "[I 2025-05-29 16:49:26,354] Trial 47 finished with value: 25787.3589021268 and parameters: {'n_estimators': 1500, 'max_depth': 5, 'learning_rate': 0.022047415787266062, 'subsample': 0.5022734597342691, 'colsample_bytree': 0.8570522038412501}. Best is trial 42 with value: 24975.64579700785.\n",
      "[I 2025-05-29 16:49:35,733] Trial 48 finished with value: 25557.742827885897 and parameters: {'n_estimators': 1000, 'max_depth': 3, 'learning_rate': 0.06273423407316163, 'subsample': 0.4098728074158991, 'colsample_bytree': 0.7341200981456424}. Best is trial 42 with value: 24975.64579700785.\n",
      "[I 2025-05-29 16:50:57,703] Trial 49 finished with value: 78418.3939630242 and parameters: {'n_estimators': 1500, 'max_depth': 10, 'learning_rate': 1.0280267643128143e-05, 'subsample': 0.7124229457673206, 'colsample_bytree': 0.4628270429151812}. Best is trial 42 with value: 24975.64579700785.\n"
     ]
    }
   ],
   "source": [
    "import optuna\n",
    "\n",
    "def objective(trial):\n",
    "    params = {\n",
    "        'n_estimators': trial.suggest_int('n_estimators', 500, 3000, step=500),\n",
    "        'max_depth': trial.suggest_int('max_depth', 3, 13),\n",
    "        'learning_rate': trial.suggest_float('learning_rate', 1e-6, 0.1, log=True),\n",
    "        'subsample': trial.suggest_float('subsample', 0.1, 1.0),\n",
    "        'colsample_bytree': trial.suggest_float('colsample_bytree', 0.2, 1.0),\n",
    "        'objective': 'reg:squarederror',\n",
    "        'random_state': 42,\n",
    "        'verbosity': 0,\n",
    "    }\n",
    "\n",
    "    model = XGBRegressor(**params)\n",
    "    score = cross_val_score(model, X, y, cv=5, scoring='neg_root_mean_squared_error')\n",
    "    return -1 * np.mean(score)  # minimize RMSE\n",
    "\n",
    "study = optuna.create_study(direction='minimize')\n",
    "study.optimize(objective, n_trials=50)  # ⬅️ Try 50 trials"
   ]
  },
  {
   "cell_type": "code",
   "execution_count": 37,
   "id": "23023e98",
   "metadata": {},
   "outputs": [
    {
     "name": "stdout",
     "output_type": "stream",
     "text": [
      "Best Parameters from Optuna: {'n_estimators': 1500, 'max_depth': 3, 'learning_rate': 0.09782782560750312, 'subsample': 0.6143491217365231, 'colsample_bytree': 0.7970633860213997}\n",
      "Best RMSE from Optuna: 24975.64579700785\n"
     ]
    }
   ],
   "source": [
    "print(\"Best Parameters from Optuna:\", study.best_params)\n",
    "print(\"Best RMSE from Optuna:\", study.best_value)"
   ]
  },
  {
   "cell_type": "code",
   "execution_count": 38,
   "id": "60b560ab",
   "metadata": {},
   "outputs": [],
   "source": [
    "final_model = XGBRegressor(**study.best_params, random_state=42)\n",
    "final_model.fit(X, y)\n",
    "y_pred = final_model.predict(X_test)\n"
   ]
  },
  {
   "cell_type": "code",
   "execution_count": 39,
   "id": "6928bfec",
   "metadata": {},
   "outputs": [
    {
     "data": {
      "image/png": "[encoded data removed]",
      "text/plain": [
       "<Figure size 1000x600 with 1 Axes>"
      ]
     },
     "metadata": {},
     "output_type": "display_data"
    }
   ],
   "source": [
    "sort_indices = np.argsort(Y_test)\n",
    "\n",
    "# Plot\n",
    "plt.figure(figsize=(10, 6))\n",
    "plt.plot(np.arange(len(Y_test)), Y_test, label='Original')\n",
    "plt.plot(np.arange(len(Y_test)), y_pred, label='Predicted')\n",
    "plt.xlabel('Index')\n",
    "plt.ylabel('Price')\n",
    "plt.title('Original vs Predicted Prices')\n",
    "plt.legend()\n",
    "plt.show()"
   ]
  },
  {
   "cell_type": "code",
   "execution_count": 40,
   "id": "2eb509f9",
   "metadata": {},
   "outputs": [],
   "source": [
    "pred = final_model.predict(testing_data)\n",
    "\n",
    "final = pd.DataFrame()\n",
    "final['Id'] = testing_data.index\n",
    "final['SalePrice'] = pred\n",
    "\n",
    "# Write DataFrame to a CSV file without index\n",
    "final.to_csv('output.csv', index=False)"
   ]
  },
  {
   "cell_type": "code",
   "execution_count": null,
   "id": "77f4c719",
   "metadata": {},
   "outputs": [],
   "source": []
  }
 ],
 "metadata": {
  "kernelspec": {
   "display_name": "ml-algo",
   "language": "python",
   "name": "python3"
  },
  "language_info": {
   "codemirror_mode": {
    "name": "ipython",
    "version": 3
   },
   "file_extension": ".py",
   "mimetype": "text/x-python",
   "name": "python",
   "nbconvert_exporter": "python",
   "pygments_lexer": "ipython3",
   "version": "3.12.7"
  }
 },
 "nbformat": 4,
 "nbformat_minor": 5
}
